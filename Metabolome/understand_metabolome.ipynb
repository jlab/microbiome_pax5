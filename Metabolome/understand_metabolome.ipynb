{
 "cells": [
  {
   "cell_type": "code",
   "execution_count": 1,
   "metadata": {},
   "outputs": [
    {
     "name": "stderr",
     "output_type": "stream",
     "text": [
      "ggmap is custome code from Stefan Janssen, download at https://github.com/sjanssen2/ggmap\n",
      "Reading settings file '/home/jansses/.ggmaprc'\n",
      "ggmap is custome code from Stefan Janssen, download at https://github.com/sjanssen2/ggmap\n",
      "Reading settings file '/home/jansses/.ggmaprc'\n",
      "/home/jansses/miniconda3/envs/notebookServer/lib/python3.6/site-packages/docrep-0.2.5-py3.6.egg/docrep/__init__.py:341: MatplotlibDeprecationWarning: \n",
      "The dedent function was deprecated in Matplotlib 3.1 and will be removed in 3.3. Use inspect.cleandoc instead.\n",
      "  s = dedents('\\n' + '\\n'.join(lines[first:]))\n",
      "/home/jansses/miniconda3/envs/notebookServer/lib/python3.6/site-packages/docrep-0.2.5-py3.6.egg/docrep/__init__.py:341: MatplotlibDeprecationWarning: \n",
      "The dedent function was deprecated in Matplotlib 3.1 and will be removed in 3.3. Use inspect.cleandoc instead.\n",
      "  s = dedents('\\n' + '\\n'.join(lines[first:]))\n",
      "/home/jansses/miniconda3/envs/notebookServer/lib/python3.6/site-packages/docrep-0.2.5-py3.6.egg/docrep/__init__.py:341: MatplotlibDeprecationWarning: \n",
      "The dedent function was deprecated in Matplotlib 3.1 and will be removed in 3.3. Use inspect.cleandoc instead.\n",
      "  s = dedents('\\n' + '\\n'.join(lines[first:]))\n",
      "/home/jansses/miniconda3/envs/notebookServer/lib/python3.6/site-packages/docrep-0.2.5-py3.6.egg/docrep/__init__.py:341: MatplotlibDeprecationWarning: \n",
      "The dedent function was deprecated in Matplotlib 3.1 and will be removed in 3.3. Use inspect.cleandoc instead.\n",
      "  s = dedents('\\n' + '\\n'.join(lines[first:]))\n",
      "/home/jansses/miniconda3/envs/notebookServer/lib/python3.6/site-packages/docrep-0.2.5-py3.6.egg/docrep/__init__.py:341: MatplotlibDeprecationWarning: \n",
      "The dedent function was deprecated in Matplotlib 3.1 and will be removed in 3.3. Use inspect.cleandoc instead.\n",
      "  s = dedents('\\n' + '\\n'.join(lines[first:]))\n",
      "/home/jansses/miniconda3/envs/notebookServer/lib/python3.6/site-packages/docrep-0.2.5-py3.6.egg/docrep/__init__.py:341: MatplotlibDeprecationWarning: \n",
      "The dedent function was deprecated in Matplotlib 3.1 and will be removed in 3.3. Use inspect.cleandoc instead.\n",
      "  s = dedents('\\n' + '\\n'.join(lines[first:]))\n",
      "/home/jansses/miniconda3/envs/notebookServer/lib/python3.6/site-packages/docrep-0.2.5-py3.6.egg/docrep/__init__.py:341: MatplotlibDeprecationWarning: \n",
      "The dedent function was deprecated in Matplotlib 3.1 and will be removed in 3.3. Use inspect.cleandoc instead.\n",
      "  s = dedents('\\n' + '\\n'.join(lines[first:]))\n"
     ]
    }
   ],
   "source": [
    "%matplotlib inline\n",
    "%load_ext autoreload\n",
    "%autoreload 2\n",
    "\n",
    "import pandas as pd\n",
    "import numpy as np\n",
    "from skbio.tree import TreeNode\n",
    "from itertools import combinations\n",
    "from scipy.stats import mannwhitneyu\n",
    "from skbio.stats.distance import mantel\n",
    "from glob import glob\n",
    "from os.path import join, basename\n",
    "from matplotlib.patches import Patch\n",
    "from matplotlib.lines import Line2D\n",
    "from matplotlib_venn import venn2\n",
    "from matplotlib_venn import venn3 as venn_3\n",
    "#import venn\n",
    "\n",
    "from ggmap.snippets import *\n",
    "from ggmap.analyses import *\n",
    "from ggmap.correlations import *\n",
    "from ggmap.workflow import *\n",
    "import calour as ca\n",
    "ca.set_log_level(40)\n",
    "import io\n",
    "\n",
    "import requests\n",
    "import json\n",
    "import fetch\n",
    "from ggmap.tree import *\n",
    "from ggmap.utils import *\n",
    "from ggmap.readwrite import *\n",
    "\n",
    "from scipy.spatial import distance\n",
    "from scipy.cluster import hierarchy"
   ]
  },
  {
   "cell_type": "code",
   "execution_count": 2,
   "metadata": {},
   "outputs": [],
   "source": [
    "x = pd.read_excel('Incoming/200107__Data_19-0037.xlsx', sheet_name=\"01.AllData\").rename(columns={'Sample.label.on.tube': 'sample_name'})\n",
    "meta = x[[\"MS.Label\", \"sample_name\", \"Species\", \"Tissue.type.(origin)\", \"Condition.1.(treatment)\", \"Condition.2.(Time)\", \"Condition.3\", \"Biological.replicate\", \"Harvested.culture.volume.[ml]\", \"Cell.density.[X*106/ml]\", \"resuspension.[µl]\", \"GC-MS\", \"GroupVar\", \"Normalization\", \"Normalized_by\", \"Multiplication_factor\", \"Acq.Method.File\", \"Data.File\", \"Sample.Type\", \"Position\", \"Inj.Vol\", \"Instrument\", \"SpeedVacVol\", \"Sample.Comment\", \"Sample.Approved\"]].groupby('sample_name').first()\n",
    "meta.columns = list(map(lambda x: x.replace('.', '_').replace('(', '_').replace(')', '_').replace('[', '_').replace(']', '_').replace('*', '_').replace('/', '_').replace('-', '_').replace('µ', 'u'), meta.columns))\n",
    "for field in ['Condition_1__treatment_', 'Condition_3']:\n",
    "    meta[field] = meta[field].apply(lambda x: x[1:] if x.startswith('_') else x)\n",
    "\n",
    "data = x[['sample_name', \"Compound\", \"ISTD\", \"Resp\", \"ISTD.Resp\", \"Resp.Ratio\", \"UserAnno.Peak\", \"MI.Peak\", \"MZ\", \"MZ.Ex.Left\", \"MZ.Ex.Right\", \"MZ.Ex.Units\", \"RT.Compound\", \"RT.Peak\", \"MS.Replicates\", \"data.source\", \"ISTD.Resp.Ratio\", \"Acq.Method.Condensed\", \"MS.project\", \"Report.Name\", \"data.dir\", \"relativeResponse\", \"IQR_1.5_outlier\"]].set_index(['sample_name', 'Compound'])\n",
    "\n",
    "counts = pd.pivot_table(data=data, columns='sample_name', index=\"Compound\", values=\"relativeResponse\").fillna(0)"
   ]
  },
  {
   "cell_type": "code",
   "execution_count": 3,
   "metadata": {},
   "outputs": [
    {
     "name": "stderr",
     "output_type": "stream",
     "text": [
      "Using existing results from '.anacache/7831d53163866370681253749ab8e1bc.adiv'. \n",
      "Using existing results from '.anacache/88944ad280cc354549d767e70e016bf9.bdiv'. \n",
      "Using existing results from '.anacache/f59aa30dec7623b8765da2605364bba2.emperor'. \n"
     ]
    }
   ],
   "source": [
    "res_alpha = alpha_diversity(counts, metrics=['shannon'], dry=False, wait=True, rarefaction_depth=None)\n",
    "res_beta= beta_diversity(counts, metrics=['bray_curtis', 'jaccard'], dry=False, wait=False)\n",
    "if res_beta['results'] is not None:\n",
    "    res_emperor = emperor(meta, res_beta['results'], fp_results=\"./Emperor/\", dry=False)"
   ]
  },
  {
   "cell_type": "code",
   "execution_count": 8,
   "metadata": {},
   "outputs": [
    {
     "name": "stderr",
     "output_type": "stream",
     "text": [
      "Found 1 temporary working directories, but non of them have finished. If no job is currently running, you might want to delete these directories and restart:\n",
      "  /home/jansses/TMP/ana_cmpcat_408kpea4\n"
     ]
    }
   ],
   "source": [
    "res_sigtest = compare_categories(res_beta['results']['bray_curtis'], meta, dry=False, wait=False)"
   ]
  },
  {
   "cell_type": "code",
   "execution_count": 9,
   "metadata": {},
   "outputs": [
    {
     "name": "stderr",
     "output_type": "stream",
     "text": [
      "found matching working dir \"/home/jansses/TMP/ana_corr-divmeta__s9y0s_x\"\n",
      " Was removed.\n"
     ]
    },
    {
     "data": {
      "text/plain": [
       "['Acq_Method_File',\n",
       " 'Condition_1__treatment_',\n",
       " 'Condition_2__Time_',\n",
       " 'Condition_3',\n",
       " 'GC_MS',\n",
       " 'GroupVar',\n",
       " 'Harvested_culture_volume__ml_',\n",
       " 'SpeedVacVol',\n",
       " 'Normalization']"
      ]
     },
     "execution_count": 9,
     "metadata": {},
     "output_type": "execute_result"
    }
   ],
   "source": [
    "res_corr = correlation_diversity_metacolumns(meta.applymap(lambda x: str(x)), list(meta.columns), res_alpha['results'], res_beta['results'], dry=False, wait=False)\n",
    "cols_significant = [k for k,v in res_corr['results'].groupby('column')['p-value'].min().sort_values().iteritems() if v < 0.05 if '%28' not in k]\n",
    "cols_significant"
   ]
  },
  {
   "cell_type": "code",
   "execution_count": 10,
   "metadata": {},
   "outputs": [
    {
     "name": "stderr",
     "output_type": "stream",
     "text": [
      "/home/jansses/miniconda3/envs/notebookServer/lib/python3.6/site-packages/scipy/stats/stats.py:2933: RuntimeWarning: divide by zero encountered in double_scalars\n",
      "  f = msb / msw\n",
      "/home/jansses/miniconda3/envs/notebookServer/src/ggmap/ggmap/correlations.py:241: RuntimeWarning: invalid value encountered in double_scalars\n",
      "  r_ = (f_ / (f_*df_n + df_d))\n"
     ]
    },
    {
     "data": {
      "image/png": "[encoded data removed]",
      "text/plain": [
       "<Figure size 720x720 with 4 Axes>"
      ]
     },
     "metadata": {
      "needs_background": "light"
     },
     "output_type": "display_data"
    }
   ],
   "source": [
    "fields_categorials = ['Acq_Method_File', 'GroupVar', 'Condition_2__Time_']\n",
    "fields_intervals = ['Normalization', 'Harvested_culture_volume__ml_', 'Condition_3', 'Condition_1__treatment_']\n",
    "fields_ordinals = {'SpeedVacVol': [30, 50], 'GC_MS': [30, 50]}\n",
    "res_corr_meta = correlate_metadata(meta.loc[:, cols_significant], fields_categorials, fields_ordinals, fields_intervals)"
   ]
  },
  {
   "cell_type": "code",
   "execution_count": 11,
   "metadata": {},
   "outputs": [],
   "source": [
    "# 100% correlating metadata\n",
    "cols_significant = [c for c in cols_significant if c not in ['GC_MS', 'Normalization']]"
   ]
  },
  {
   "cell_type": "code",
   "execution_count": 19,
   "metadata": {},
   "outputs": [
    {
     "name": "stderr",
     "output_type": "stream",
     "text": [
      "Using existing results from '.anacache/6b074b8f0eed48f76e033082f1ec49b8.fRDAalpha'. \n",
      "No significant findings.\n",
      "found matching working dir \"/home/jansses/TMP/ana_fRDAbeta_duz49ed0\"\n",
      " Was removed.\n",
      "Found 1 temporary working directories, but non of them have finished. If no job is currently running, you might want to delete these directories and restart:\n",
      "  /home/jansses/TMP/ana_fRDAbeta_hbboqrt6\n"
     ]
    },
    {
     "data": {
      "image/png": "[encoded data removed]",
      "text/plain": [
       "<Figure size 720x720 with 4 Axes>"
      ]
     },
     "metadata": {
      "needs_background": "light"
     },
     "output_type": "display_data"
    }
   ],
   "source": [
    "max_rows = max(len(res_alpha['results'].keys()), len(res_beta['results'].keys()))\n",
    "fig, axes = plt.subplots(max_rows, 2, figsize=(5*2, 5*max_rows))\n",
    "for i, metric in enumerate(res_alpha['results'].keys()):\n",
    "    redundancy_analysis_alpha(meta, res_alpha['results'][metric],\n",
    "                              categorials=[f for f in fields_categorials if f in cols_significant], \n",
    "                              ordinals={k: v for k,v in fields_ordinals.items() if k in cols_significant},\n",
    "                              intervals=[f for f in fields_intervals if f in cols_significant],\n",
    "                              dates={},\n",
    "                              ax=axes[i][0], title=metric,\n",
    "                              dry=False, wait=False)\n",
    "for i, metric in enumerate(res_beta['results'].keys()):\n",
    "    redundancy_analysis_beta(meta, res_beta['results'][metric], metric,\n",
    "                             categorials=[f for f in fields_categorials if f in cols_significant], \n",
    "                             ordinals={k: v for k,v in fields_ordinals.items() if k in cols_significant},\n",
    "                             intervals=[f for f in fields_intervals if f in cols_significant],\n",
    "                             dates={},\n",
    "                             ax=axes[i][1], title=metric,\n",
    "                             dry=True, wait=False)"
   ]
  },
  {
   "cell_type": "code",
   "execution_count": 39,
   "metadata": {},
   "outputs": [
    {
     "name": "stderr",
     "output_type": "stream",
     "text": [
      "Using existing results from '.anacache/879cbffb3b90bae577c765baf955eff5.fRDAalpha'. \n",
      "Using existing results from '.anacache/b06d997bfe1893586430522ddc141a27.fRDAbeta'. \n",
      "No significant findings.\n",
      "Using existing results from '.anacache/ec65f1d3a93742a6f1483e4de6bc3cb3.fRDAbeta'. \n",
      "No significant findings.\n"
     ]
    },
    {
     "data": {
      "image/png": "[encoded data removed]",
      "text/plain": [
       "<Figure size 720x720 with 4 Axes>"
      ]
     },
     "metadata": {
      "needs_background": "light"
     },
     "output_type": "display_data"
    }
   ],
   "source": [
    "max_rows = max(len(res_alpha['results'].keys()), len(res_beta['results'].keys()))\n",
    "fig, axes = plt.subplots(max_rows, 2, figsize=(5*2, 5*max_rows))\n",
    "for i, metric in enumerate(res_alpha['results'].keys()):\n",
    "    redundancy_analysis_alpha(meta, res_alpha['results'][metric],\n",
    "                              categorials=['Condition_1__treatment_', 'Condition_2__Time_'], \n",
    "                              ordinals={},\n",
    "                              intervals=[],#['Condition_3'],\n",
    "                              dates={},\n",
    "                              ax=axes[i][0], title=metric,\n",
    "                              dry=False, wait=False)\n",
    "for i, metric in enumerate(res_beta['results'].keys()):\n",
    "    redundancy_analysis_beta(meta, res_beta['results'][metric], metric,\n",
    "                             categorials=['Condition_1__treatment_', 'Condition_2__Time_'], \n",
    "                             ordinals={},\n",
    "                             intervals=[],#['Condition_3'],\n",
    "                             dates={},\n",
    "                             ax=axes[i][1], title=metric,\n",
    "                             dry=False, wait=False)"
   ]
  },
  {
   "cell_type": "code",
   "execution_count": 23,
   "metadata": {},
   "outputs": [],
   "source": [
    "!rm -rf /home/jansses/TMP/ana_fRDAbeta_pzr_66_w"
   ]
  },
  {
   "cell_type": "code",
   "execution_count": 33,
   "metadata": {},
   "outputs": [
    {
     "data": {
      "text/plain": [
       "01     20\n",
       "04     20\n",
       "02     20\n",
       "32     20\n",
       "16     20\n",
       "0.5    20\n",
       "08     20\n",
       "0       4\n",
       "Name: Condition_3, dtype: int64"
      ]
     },
     "execution_count": 33,
     "metadata": {},
     "output_type": "execute_result"
    }
   ],
   "source": [
    "meta['Condition_3'].value_counts()"
   ]
  },
  {
   "cell_type": "code",
   "execution_count": 40,
   "metadata": {},
   "outputs": [
    {
     "data": {
      "text/plain": [
       "(48, 144)"
      ]
     },
     "execution_count": 40,
     "metadata": {},
     "output_type": "execute_result"
    }
   ],
   "source": [
    "counts.shape"
   ]
  },
  {
   "cell_type": "code",
   "execution_count": 48,
   "metadata": {},
   "outputs": [
    {
     "data": {
      "text/plain": [
       "Compound\n",
       "5-oxoproline_UK_11.18      0\n",
       "Asparagine                 0\n",
       "Aspartate                  0\n",
       "Citrate+Isocitrate         0\n",
       "DMPA                       0\n",
       "Fumarate                   0\n",
       "Gaba                       0\n",
       "Glucose                    0\n",
       "Glutamate                  0\n",
       "Glutamine_UK_13.48         0\n",
       "Glycerate                  0\n",
       "Glycerol                   0\n",
       "Glycerol-P_UK_13.45        0\n",
       "Glycine                    0\n",
       "Isoleucine                 0\n",
       "Leucine                    0\n",
       "Lysine                     0\n",
       "Malate                     0\n",
       "Maltose                    0\n",
       "Methionine               104\n",
       "Myoinositol                0\n",
       "Ornithine                  0\n",
       "Phenylalanine              0\n",
       "Proline                    0\n",
       "Putrescine                 0\n",
       "Pyruvate                   0\n",
       "Serine                     0\n",
       "Succinate                  0\n",
       "Threonate_UK_11.60         0\n",
       "Threonine                  0\n",
       "Tyrosine                   0\n",
       "UK_17.84_Glc-P             0\n",
       "UK_19.45_273               0\n",
       "UK_9.298                   0\n",
       "UK_9.68                  104\n",
       "UK_AMP_22.15               0\n",
       "UK_adenine_14.323          0\n",
       "UK_bPG_13.88               0\n",
       "UK_fluridoside_17.26       0\n",
       "UK_hexP_17.8               0\n",
       "UK_niacinamide_10.750      0\n",
       "UK_pentoseBP_19.30       104\n",
       "UK_pyrimidine_10.86        0\n",
       "UK_tryptamine_11.1         0\n",
       "UK_uracil_9.321            0\n",
       "Valine                     0\n",
       "alpha-Alanine              0\n",
       "alpha-Ketoglutarate        0\n",
       "dtype: int64"
      ]
     },
     "execution_count": 48,
     "metadata": {},
     "output_type": "execute_result"
    }
   ],
   "source": [
    "x = pd.pivot_table(data=data, columns='sample_name', index=\"Compound\", values=\"relativeResponse\")\n",
    "pd.isnull(x).sum(axis=1)"
   ]
  },
  {
   "cell_type": "code",
   "execution_count": null,
   "metadata": {},
   "outputs": [],
   "source": []
  }
 ],
 "metadata": {
  "kernelspec": {
   "display_name": "Python 3",
   "language": "python",
   "name": "python3"
  },
  "language_info": {
   "codemirror_mode": {
    "name": "ipython",
    "version": 3
   },
   "file_extension": ".py",
   "mimetype": "text/x-python",
   "name": "python",
   "nbconvert_exporter": "python",
   "pygments_lexer": "ipython3",
   "version": "3.6.7"
  }
 },
 "nbformat": 4,
 "nbformat_minor": 2
}
